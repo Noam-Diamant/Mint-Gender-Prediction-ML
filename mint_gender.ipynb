{
  "cells": [
    {
      "cell_type": "code",
      "execution_count": 1,
      "metadata": {},
      "outputs": [],
      "source": [
        "# Reload utils module to get latest changes\n",
        "from importlib import reload\n",
        "import utils\n",
        "reload(utils)\n",
        "\n",
        "# Import everything we need from utils\n",
        "from utils import *\n",
        "\n",
        "# Configure pandas display\n",
        "pd.set_option(\"display.max_columns\", 200)\n",
        "\n",
        "# Suppress warnings\n",
        "import warnings\n",
        "warnings.filterwarnings('ignore')\n",
        "\n",
        "# Data path\n",
        "DATA_PATH = \"/dsi/fetaya-lab/noam_diamant/projects/intuit/data.csv\"\n"
      ]
    },
    {
      "cell_type": "markdown",
      "metadata": {},
      "source": [
        "# Show the data information"
      ]
    },
    {
      "cell_type": "code",
      "execution_count": 2,
      "metadata": {},
      "outputs": [
        {
          "name": "stdout",
          "output_type": "stream",
          "text": [
            "Shape:  (1000000, 6)\n",
            "# transactions are:  1000000\n",
            "# attributes are:  6 \n",
            "\n",
            "\n"
          ]
        }
      ],
      "source": [
        "# Load and basic cleanup\n",
        "raw = pd.read_csv(DATA_PATH)\n",
        "print(\"Shape: \", raw.shape)\n",
        "print(\"# transactions are: \", raw.shape[0])\n",
        "print(\"# attributes are: \", raw.shape[1], \"\\n\\n\")"
      ]
    },
    {
      "cell_type": "code",
      "execution_count": 3,
      "metadata": {},
      "outputs": [
        {
          "data": {
            "text/html": [
              "<div>\n",
              "<style scoped>\n",
              "    .dataframe tbody tr th:only-of-type {\n",
              "        vertical-align: middle;\n",
              "    }\n",
              "\n",
              "    .dataframe tbody tr th {\n",
              "        vertical-align: top;\n",
              "    }\n",
              "\n",
              "    .dataframe thead th {\n",
              "        text-align: right;\n",
              "    }\n",
              "</style>\n",
              "<table border=\"1\" class=\"dataframe\">\n",
              "  <thead>\n",
              "    <tr style=\"text-align: right;\">\n",
              "      <th></th>\n",
              "      <th>user_id</th>\n",
              "      <th>description</th>\n",
              "      <th>category</th>\n",
              "      <th>amount</th>\n",
              "      <th>date</th>\n",
              "      <th>gender</th>\n",
              "    </tr>\n",
              "  </thead>\n",
              "  <tbody>\n",
              "    <tr>\n",
              "      <th>0</th>\n",
              "      <td>2415848187644231731</td>\n",
              "      <td>-</td>\n",
              "      <td>Babysitter &amp; Daycare</td>\n",
              "      <td>-105.70</td>\n",
              "      <td>2016-12-02</td>\n",
              "      <td>M</td>\n",
              "    </tr>\n",
              "    <tr>\n",
              "      <th>1</th>\n",
              "      <td>2415848187644231731</td>\n",
              "      <td>-</td>\n",
              "      <td>Transfer</td>\n",
              "      <td>-712.31</td>\n",
              "      <td>2016-12-02</td>\n",
              "      <td>M</td>\n",
              "    </tr>\n",
              "    <tr>\n",
              "      <th>2</th>\n",
              "      <td>7621821633626091160</td>\n",
              "      <td>-</td>\n",
              "      <td>Finance Charge</td>\n",
              "      <td>-2.02</td>\n",
              "      <td>2016-12-02</td>\n",
              "      <td>M</td>\n",
              "    </tr>\n",
              "    <tr>\n",
              "      <th>3</th>\n",
              "      <td>2215014179620581716</td>\n",
              "      <td>-</td>\n",
              "      <td>Parking</td>\n",
              "      <td>-5.20</td>\n",
              "      <td>2016-12-02</td>\n",
              "      <td>F</td>\n",
              "    </tr>\n",
              "    <tr>\n",
              "      <th>4</th>\n",
              "      <td>906409546992525081</td>\n",
              "      <td>CVS</td>\n",
              "      <td>Pharmacy</td>\n",
              "      <td>-14.13</td>\n",
              "      <td>2016-12-02</td>\n",
              "      <td>M</td>\n",
              "    </tr>\n",
              "    <tr>\n",
              "      <th>5</th>\n",
              "      <td>8450426553679461645</td>\n",
              "      <td>-</td>\n",
              "      <td>Hotel</td>\n",
              "      <td>-263.53</td>\n",
              "      <td>2016-12-02</td>\n",
              "      <td>F</td>\n",
              "    </tr>\n",
              "    <tr>\n",
              "      <th>6</th>\n",
              "      <td>7108016686999469858</td>\n",
              "      <td>-</td>\n",
              "      <td>Music</td>\n",
              "      <td>-5.23</td>\n",
              "      <td>2016-12-02</td>\n",
              "      <td>M</td>\n",
              "    </tr>\n",
              "    <tr>\n",
              "      <th>7</th>\n",
              "      <td>1650846412181785257</td>\n",
              "      <td>-</td>\n",
              "      <td>Paycheck</td>\n",
              "      <td>1604.75</td>\n",
              "      <td>2016-12-02</td>\n",
              "      <td>F</td>\n",
              "    </tr>\n",
              "    <tr>\n",
              "      <th>8</th>\n",
              "      <td>1650846412181785257</td>\n",
              "      <td>McDonald's</td>\n",
              "      <td>Fast Food</td>\n",
              "      <td>-5.12</td>\n",
              "      <td>2016-12-02</td>\n",
              "      <td>F</td>\n",
              "    </tr>\n",
              "    <tr>\n",
              "      <th>9</th>\n",
              "      <td>3894302339387823463</td>\n",
              "      <td>-</td>\n",
              "      <td>Taxes</td>\n",
              "      <td>-143.48</td>\n",
              "      <td>2016-12-02</td>\n",
              "      <td>F</td>\n",
              "    </tr>\n",
              "  </tbody>\n",
              "</table>\n",
              "</div>"
            ],
            "text/plain": [
              "               user_id description              category   amount        date  \\\n",
              "0  2415848187644231731           -  Babysitter & Daycare  -105.70  2016-12-02   \n",
              "1  2415848187644231731           -              Transfer  -712.31  2016-12-02   \n",
              "2  7621821633626091160           -        Finance Charge    -2.02  2016-12-02   \n",
              "3  2215014179620581716           -               Parking    -5.20  2016-12-02   \n",
              "4   906409546992525081         CVS              Pharmacy   -14.13  2016-12-02   \n",
              "5  8450426553679461645           -                 Hotel  -263.53  2016-12-02   \n",
              "6  7108016686999469858           -                 Music    -5.23  2016-12-02   \n",
              "7  1650846412181785257           -              Paycheck  1604.75  2016-12-02   \n",
              "8  1650846412181785257  McDonald's             Fast Food    -5.12  2016-12-02   \n",
              "9  3894302339387823463           -                 Taxes  -143.48  2016-12-02   \n",
              "\n",
              "  gender  \n",
              "0      M  \n",
              "1      M  \n",
              "2      M  \n",
              "3      F  \n",
              "4      M  \n",
              "5      F  \n",
              "6      M  \n",
              "7      F  \n",
              "8      F  \n",
              "9      F  "
            ]
          },
          "execution_count": 3,
          "metadata": {},
          "output_type": "execute_result"
        }
      ],
      "source": [
        "raw.head(10)"
      ]
    },
    {
      "cell_type": "markdown",
      "metadata": {},
      "source": [
        "### Some users IDs are repeating! \n",
        "\n",
        "If you train directly on transaction-level rows:\n",
        "\n",
        "Each transaction becomes an input, but the label (gender) is duplicated for all of a user’s transactions.\n",
        "\n",
        "You’ll have hundreds of highly correlated rows per user.\n",
        "\n",
        "During train/test split, some transactions of a user may go to training, others to test and the model will effectively see the user’s data during training. We will inflated accuracy (data leakage).\n",
        "\n",
        "The model would really be predicting “what kind of transaction is this”, not the gender of the person."
      ]
    },
    {
      "cell_type": "code",
      "execution_count": 4,
      "metadata": {},
      "outputs": [
        {
          "name": "stdout",
          "output_type": "stream",
          "text": [
            "<class 'pandas.core.frame.DataFrame'>\n",
            "RangeIndex: 1000000 entries, 0 to 999999\n",
            "Data columns (total 6 columns):\n",
            " #   Column       Non-Null Count    Dtype  \n",
            "---  ------       --------------    -----  \n",
            " 0   user_id      1000000 non-null  int64  \n",
            " 1   description  1000000 non-null  object \n",
            " 2   category     1000000 non-null  object \n",
            " 3   amount       1000000 non-null  float64\n",
            " 4   date         1000000 non-null  object \n",
            " 5   gender       1000000 non-null  object \n",
            "dtypes: float64(1), int64(1), object(4)\n",
            "memory usage: 45.8+ MB\n"
          ]
        }
      ],
      "source": [
        "raw.info()"
      ]
    },
    {
      "cell_type": "markdown",
      "metadata": {},
      "source": [
        "### No need to fill nulls...\n",
        "### Also, according to the assignment description, null is not possible\n"
      ]
    },
    {
      "cell_type": "markdown",
      "metadata": {},
      "source": [
        "# now lets look for exact duplicates"
      ]
    },
    {
      "cell_type": "code",
      "execution_count": 5,
      "metadata": {},
      "outputs": [
        {
          "name": "stdout",
          "output_type": "stream",
          "text": [
            "\n",
            "Example of a duplicate transaction:\n",
            "\n",
            "Row numbers: [152996, 174364]\n",
            "                  user_id description   category  amount        date gender\n",
            "152996  19306846752703627           -  Financial  -66.71  2016-11-25      F\n",
            "174364  19306846752703627           -  Financial  -66.71  2016-11-25      F\n",
            "\n",
            "--------------------------------\n",
            "\n",
            "Raw data shape:  (1000000, 6)\n",
            "Deduplicated data shape:  (956759, 6)\n",
            "Dropped duplicates: 43241\n"
          ]
        }
      ],
      "source": [
        "# Show an example of a duplicate row\n",
        "print(\"\\nExample of a duplicate transaction:\")\n",
        "duplicate = raw[raw.duplicated(keep=False)].sort_values(['user_id', 'description', 'category', 'amount', 'date', 'gender']).head(2)\n",
        "print(\"\\nRow numbers:\", duplicate.index.tolist())\n",
        "print(duplicate)\n",
        "\n",
        "print(\"\\n--------------------------------\\n\")\n",
        "\n",
        "df = raw.copy()\n",
        "# Deduplicate rows\n",
        "before = len(df)\n",
        "df = df.drop_duplicates()\n",
        "print(\"Raw data shape: \", raw.shape)\n",
        "print(\"Deduplicated data shape: \", df.shape)\n",
        "print(f\"Dropped duplicates: {before - len(df)}\")\n",
        "\n"
      ]
    },
    {
      "cell_type": "markdown",
      "metadata": {},
      "source": [
        "### Let's see how many users we have"
      ]
    },
    {
      "cell_type": "code",
      "execution_count": 6,
      "metadata": {},
      "outputs": [
        {
          "name": "stdout",
          "output_type": "stream",
          "text": [
            "number of users is:  1200\n",
            "               user_id gender\n",
            "0  2415848187644231731      M\n",
            "2  7621821633626091160      M\n",
            "3  2215014179620581716      F\n"
          ]
        }
      ],
      "source": [
        "# count the users\n",
        "labels = df[['user_id', 'gender']].drop_duplicates(subset='user_id')\n",
        "print(\"number of users is: \", labels.shape[0])\n",
        "print(labels.head(3))"
      ]
    },
    {
      "cell_type": "markdown",
      "metadata": {},
      "source": [
        "# distrubtion of the data by users"
      ]
    },
    {
      "cell_type": "code",
      "execution_count": 7,
      "metadata": {},
      "outputs": [
        {
          "data": {
            "image/png": "[encoded data removed]",
            "text/plain": [
              "<Figure size 1500x500 with 2 Axes>"
            ]
          },
          "metadata": {},
          "output_type": "display_data"
        }
      ],
      "source": [
        "# Create a figure with one row and two columns\n",
        "target =pd.DataFrame(labels['gender']) \n",
        "\n",
        "fig, axes = plt.subplots(1, 2, figsize=(15, 5))\n",
        "\n",
        "# Plot the displot on the first subplot\n",
        "ax = sns.histplot(target, x='gender', color='red', discrete=True, ax=axes[0])\n",
        "axes[0].set_title('Distribution of gender')  # add title for the first subplot\n",
        "axes[0].set_xticks([0, 1])  # Set x-ticks to show only 0 and 1\n",
        "\n",
        "# Add count labels on top of each bar\n",
        "for i, p in enumerate(ax.patches):\n",
        "    count = int(p.get_height())\n",
        "    ax.annotate(str(count), \n",
        "                xy=(p.get_x() + p.get_width()/2, p.get_height()),\n",
        "                xytext=(0, -50),  # 50 points vertical offset\n",
        "                textcoords='offset points',\n",
        "                ha='center',\n",
        "                va='bottom')\n",
        "\n",
        "# Plot the pie chart on the second subplot\n",
        "axes[1].pie(target['gender'].value_counts(), labels=target['gender'].unique(), autopct='%1.1f%%', shadow=True, startangle=90)\n",
        "axes[1].axis('equal')  # Equal aspect ratio ensures that pie is drawn as a circle.\n",
        "axes[1].set_title('Proportion of gender - Pie chart')  # add title for the second subplot\n",
        "\n",
        "# Adjust layout for better spacing\n",
        "plt.tight_layout()\n",
        "plt.show()"
      ]
    },
    {
      "cell_type": "markdown",
      "metadata": {},
      "source": [
        "#### The data is quite balanced, yay!\n",
        "\n",
        "### Map raw categories to our main category mapping???\n"
      ]
    },
    {
      "cell_type": "code",
      "execution_count": 8,
      "metadata": {},
      "outputs": [
        {
          "data": {
            "text/html": [
              "<div>\n",
              "<style scoped>\n",
              "    .dataframe tbody tr th:only-of-type {\n",
              "        vertical-align: middle;\n",
              "    }\n",
              "\n",
              "    .dataframe tbody tr th {\n",
              "        vertical-align: top;\n",
              "    }\n",
              "\n",
              "    .dataframe thead th {\n",
              "        text-align: right;\n",
              "    }\n",
              "</style>\n",
              "<table border=\"1\" class=\"dataframe\">\n",
              "  <thead>\n",
              "    <tr style=\"text-align: right;\">\n",
              "      <th></th>\n",
              "      <th>user_id</th>\n",
              "      <th>description</th>\n",
              "      <th>category</th>\n",
              "      <th>amount</th>\n",
              "      <th>date</th>\n",
              "      <th>gender</th>\n",
              "    </tr>\n",
              "  </thead>\n",
              "  <tbody>\n",
              "    <tr>\n",
              "      <th>0</th>\n",
              "      <td>2415848187644231731</td>\n",
              "      <td>-</td>\n",
              "      <td>Babysitter &amp; Daycare</td>\n",
              "      <td>-105.70</td>\n",
              "      <td>2016-12-02</td>\n",
              "      <td>M</td>\n",
              "    </tr>\n",
              "    <tr>\n",
              "      <th>1</th>\n",
              "      <td>2415848187644231731</td>\n",
              "      <td>-</td>\n",
              "      <td>Transfer</td>\n",
              "      <td>-712.31</td>\n",
              "      <td>2016-12-02</td>\n",
              "      <td>M</td>\n",
              "    </tr>\n",
              "    <tr>\n",
              "      <th>2</th>\n",
              "      <td>7621821633626091160</td>\n",
              "      <td>-</td>\n",
              "      <td>Finance Charge</td>\n",
              "      <td>-2.02</td>\n",
              "      <td>2016-12-02</td>\n",
              "      <td>M</td>\n",
              "    </tr>\n",
              "    <tr>\n",
              "      <th>3</th>\n",
              "      <td>2215014179620581716</td>\n",
              "      <td>-</td>\n",
              "      <td>Parking</td>\n",
              "      <td>-5.20</td>\n",
              "      <td>2016-12-02</td>\n",
              "      <td>F</td>\n",
              "    </tr>\n",
              "    <tr>\n",
              "      <th>4</th>\n",
              "      <td>906409546992525081</td>\n",
              "      <td>CVS</td>\n",
              "      <td>Pharmacy</td>\n",
              "      <td>-14.13</td>\n",
              "      <td>2016-12-02</td>\n",
              "      <td>M</td>\n",
              "    </tr>\n",
              "  </tbody>\n",
              "</table>\n",
              "</div>"
            ],
            "text/plain": [
              "               user_id description              category  amount        date  \\\n",
              "0  2415848187644231731           -  Babysitter & Daycare -105.70  2016-12-02   \n",
              "1  2415848187644231731           -              Transfer -712.31  2016-12-02   \n",
              "2  7621821633626091160           -        Finance Charge   -2.02  2016-12-02   \n",
              "3  2215014179620581716           -               Parking   -5.20  2016-12-02   \n",
              "4   906409546992525081         CVS              Pharmacy  -14.13  2016-12-02   \n",
              "\n",
              "  gender  \n",
              "0      M  \n",
              "1      M  \n",
              "2      M  \n",
              "3      F  \n",
              "4      M  "
            ]
          },
          "execution_count": 8,
          "metadata": {},
          "output_type": "execute_result"
        }
      ],
      "source": [
        "# Map raw categories to our main category mapping\n",
        "#df['category'] = raw['category'].map(utils.category_mapping)\n",
        "\n",
        "df.head()"
      ]
    },
    {
      "cell_type": "code",
      "execution_count": 9,
      "metadata": {},
      "outputs": [],
      "source": [
        "_df = df.copy()\n",
        "_df['date'] = pd.to_datetime(_df['date'])\n",
        "_df['dayofweek'] = _df['date'].dt.dayofweek.astype(int)"
      ]
    },
    {
      "cell_type": "code",
      "execution_count": null,
      "metadata": {},
      "outputs": [],
      "source": [
        "reload(utils)\n",
        "utils.visualize(_df)"
      ]
    },
    {
      "cell_type": "markdown",
      "metadata": {},
      "source": [
        "## Feature Groups and Aggregation Methods:\n",
        "\n",
        "    1. Basic Transaction Counts:\n",
        "        - num_unique_descriptions: Count of unique merchant descriptions\n",
        "\n",
        "    2. Merchant/Description Features:\n",
        "        - top_desc_share: Fraction of transactions with most frequent description\n",
        "        - Binary indicators (1.0 if user has ever transacted with merchant, 0.0 otherwise):\n",
        "        - has_{merchant}: One feature per top 10 merchant (TARGET, AMAZON, etc.)\n",
        "\n",
        "    3. Amount-based Features:\n",
        "        - amount_mean: Mean transaction amount\n",
        "        - amount_min: Minimum transaction amount\n",
        "        - amount_max: Maximum transaction amount\n",
        "        - total_income: Sum of all positive amounts\n",
        "        - frac_spend_tx: Fraction of negative amount transactions\n",
        "\n",
        "    4. Category Distribution Features:\n",
        "        For each category, two features are computed:\n",
        "        - cat_tx_frac__{category}: Fraction of transactions in category\n",
        "        - cat_spend_share__{category}: Share of total spending in category\n",
        "                                     (only negative amounts considered)\n",
        "\n",
        "    5. Temporal Features:\n",
        "        - transactions_per_month_mean: Average number of transactions per month\n",
        "        - num_active_months: Total number of months with any activity\n",
        "        - dow_frac__{0-6}: Fraction of transactions on each day of week\n",
        "        - active_days_per_month_mean: Average number of unique days with activity per month\n",
        "        - spend_over_1300_march_2016: Binary indicator if March 2016 spending > $1300\n",
        "        - spend_under_1000_march_2016: Binary indicator if March 2016 spending < $1000\n",
        "        - spend_over_1500_july_2016: Binary indicator if July 2016 spending > $1500  \n",
        "        - spend_over_800_oct_2016: Binary indicator if October 2016 spending > $800\n",
        "        - spend_under_600_july_2016: Binary indicator if July 2016 spending < $600\n",
        "        - spend_under_0_oct_2016: Binary indicator if October 2016 spending < $0 (net income)\n",
        "\n"
      ]
    },
    {
      "cell_type": "markdown",
      "metadata": {},
      "source": [
        "- Splits: stratified by gender at the user level (e.g., 80/10/10 train/val/test)."
      ]
    },
    {
      "cell_type": "code",
      "execution_count": null,
      "metadata": {},
      "outputs": [],
      "source": [
        "# === Build features for all users first ===\n",
        "X_all = build_user_features(_df)\n",
        "labels_all = build_label_frame(_df)\n",
        "print(\"Users total:\", len(labels_all))\n",
        "print(labels_all['gender'].value_counts(normalize=True))\n",
        "\n",
        "# Encode target for stratification\n",
        "labels_all['_y'] = labels_all['gender'].map({'F':0, 'M':1}).astype(int)\n",
        "\n",
        "# Train/Temp split (e.g., 80/20)\n",
        "users_train, users_temp, y_train_tmp, y_temp = train_test_split(\n",
        "    labels_all['user_id'], labels_all['_y'], test_size=0.2, random_state=RANDOM_STATE, stratify=labels_all['_y']\n",
        ")\n",
        "# Val/Test split from temp (split 20% into 10/10 of total)\n",
        "users_val, users_test, y_val_tmp, y_test = train_test_split(\n",
        "    users_temp, y_temp, test_size=0.5, random_state=RANDOM_STATE, stratify=y_temp\n",
        ")\n",
        "\n",
        "print(\"Train/Val/Test sizes (users):\", len(users_train), len(users_val), len(users_test))\n",
        "\n",
        "# Split features based on user sets\n",
        "X_train = X_all[X_all['user_id'].isin(set(users_train))].copy()\n",
        "X_val = X_all[X_all['user_id'].isin(set(users_val))].copy()\n",
        "X_test = X_all[X_all['user_id'].isin(set(users_test))].copy()\n",
        "\n",
        "y_train = labels_all.set_index('user_id').loc[X_train['user_id'], 'gender'].map({'F':0,'M':1}).values\n",
        "y_val = labels_all.set_index('user_id').loc[X_val['user_id'], 'gender'].map({'F':0,'M':1}).values\n",
        "y_test = labels_all.set_index('user_id').loc[X_test['user_id'], 'gender'].map({'F':0,'M':1}).values\n",
        "\n",
        "print(\"X_train shape:\", X_train.shape)\n",
        "print(\"X_val shape:\", X_val.shape)\n",
        "print(\"X_test shape:\", X_test.shape)"
      ]
    },
    {
      "cell_type": "code",
      "execution_count": null,
      "metadata": {},
      "outputs": [],
      "source": [
        "# === Visualization: gender distribution and transactions per user in train ===\n",
        "fig, axes = plt.subplots(1, 3, figsize=(18, 4))\n",
        "\n",
        "# Gender distribution per split\n",
        "for i, (name, users) in enumerate([('Train', users_train), ('Val', users_val), ('Test', users_test)]):\n",
        "    gdf = labels_all[labels_all['user_id'].isin(set(users))]\n",
        "    ax = sns.countplot(data=gdf, x='gender', ax=axes[i])\n",
        "    axes[i].set_title(f'{name} gender distribution')\n",
        "    for p in ax.patches:\n",
        "        axes[i].annotate(int(p.get_height()), (p.get_x()+p.get_width()/2, p.get_height()),\n",
        "                         ha='center', va='bottom', xytext=(0,3), textcoords='offset points')\n",
        "plt.tight_layout()\n",
        "plt.show()\n"
      ]
    },
    {
      "cell_type": "code",
      "execution_count": null,
      "metadata": {},
      "outputs": [],
      "source": [
        "# === Prepare model matrices and scaling where needed ===\n",
        "# Drop identifier column\n",
        "feature_cols = [c for c in X_train.columns if c != 'user_id']\n",
        "\n",
        "Xtr = X_train[feature_cols].values\n",
        "Xva = X_val[feature_cols].values\n",
        "Xte = X_test[feature_cols].values\n",
        "\n",
        "# Standardization for LR only\n",
        "scaler = StandardScaler()\n",
        "Xtr_scaled = scaler.fit_transform(Xtr)\n",
        "Xva_scaled = scaler.transform(Xva)\n",
        "Xte_scaled = scaler.transform(Xte)\n",
        "\n",
        "print(len(feature_cols), \"features\")\n",
        "\n",
        "X_train_show = X_train.copy()\n",
        "X_train_show.drop(columns=['user_id'], inplace=True)\n",
        "X_train_show.head()\n"
      ]
    },
    {
      "cell_type": "markdown",
      "metadata": {},
      "source": [
        "\n",
        "- Normalization:\n",
        "  - Tree models do not require scaling.\n",
        "  - Logistic Regression will use `StandardScaler` fitted on train only.\n",
        "- Models: Decision Tree, Random Forest, Logistic Regression. We will compare accuracy, precision, recall, F1 and pick the best based on F1 (and overall balance).\n"
      ]
    },
    {
      "cell_type": "code",
      "execution_count": null,
      "metadata": {},
      "outputs": [],
      "source": [
        "# === Train models: Decision Tree, Random Forest, XGBoost, Logistic Regression ===\n",
        "\n",
        "models = {}\n",
        "\n",
        "# Decision Tree (simple, controlled depth)\n",
        "dt = DecisionTreeClassifier(max_depth=10, min_samples_leaf=5)\n",
        "dt.fit(Xtr, y_train)\n",
        "models['DecisionTree'] = dt\n",
        "\n",
        "# Random Forest\n",
        "rf = RandomForestClassifier(\n",
        "    n_estimators=400,\n",
        "    max_depth=None,\n",
        "    min_samples_leaf=5,\n",
        "    n_jobs=-1,\n",
        ")\n",
        "rf.fit(Xtr, y_train)\n",
        "models['RandomForest'] = rf\n",
        "\n",
        "# XGBoost classifier\n",
        "xgb_clf = xgb.XGBClassifier(\n",
        "    n_estimators=100,\n",
        "    max_depth=6,\n",
        "    learning_rate=0.1,\n",
        "    objective='binary:logistic',\n",
        "    random_state=RANDOM_STATE\n",
        ")\n",
        "xgb_clf.fit(Xtr, y_train)\n",
        "models['XGBoost'] = xgb_clf\n",
        "\n",
        "# Logistic Regression (scaled)\n",
        "lr = LogisticRegression(\n",
        "    penalty='l2',\n",
        "    C=1.0,\n",
        "    max_iter=200,\n",
        "    solver='lbfgs',\n",
        ")\n",
        "lr.fit(Xtr_scaled, y_train)\n",
        "models['LogisticRegression'] = lr\n",
        "\n",
        "print(\"Trained:\", list(models.keys()))\n"
      ]
    },
    {
      "cell_type": "code",
      "execution_count": null,
      "metadata": {},
      "outputs": [],
      "source": [
        "# === Evaluate on validation and test ===\n",
        "results = []\n",
        "for name, model in models.items():\n",
        "    scaled = True if name == 'LogisticRegression' else False\n",
        "    metrics, yhat_va, yhat_tr = eval_model(name=name, model=model, Xtr=Xtr, Xva=Xva, Xtr_scaled=Xtr_scaled, Xva_scaled=Xva_scaled, y_train=y_train, y_val=y_val, scaled=scaled)\n",
        "    results.append(metrics)\n",
        "\n",
        "res_df = pd.DataFrame(results).sort_values('val_f1', ascending=False)\n",
        "print(res_df)\n"
      ]
    },
    {
      "cell_type": "code",
      "execution_count": null,
      "metadata": {},
      "outputs": [],
      "source": [
        "# === Visualizations: Confusion matrices and metrics for the test set ===\n",
        "\n",
        "best_name = res_df.iloc[0]['model']\n",
        "best_model = models[best_name]\n",
        "scaled = best_name in ('LogisticRegression', 'PretrainedNN')\n",
        "test_result = []\n",
        "\n",
        "metrics, yhat_te= test_results(best_name, best_model, Xte, Xte_scaled, y_test, scaled=scaled)\n",
        "\n",
        "test_result.append(metrics)\n",
        "test_result = pd.DataFrame(test_result)\n",
        "print(test_result)\n",
        "\n",
        "best_model = models[best_name]\n",
        "use_scaled = best_name in ('LogisticRegression', 'PretrainedNN')\n",
        "\n",
        "Xva_i = Xva_scaled if use_scaled else Xva\n",
        "Xte_i = Xte_scaled if use_scaled else Xte\n",
        "\n",
        "fig, axes = plt.subplots(1, 2, figsize=(12,5))\n",
        "ConfusionMatrixDisplay.from_predictions(y_val, best_model.predict(Xva_i), ax=axes[0])\n",
        "axes[0].set_title(f'{best_name} - Validation')\n",
        "ConfusionMatrixDisplay.from_predictions(y_test, best_model.predict(Xte_i), ax=axes[1])\n",
        "axes[1].set_title(f'{best_name} - Test')\n",
        "plt.tight_layout()\n",
        "plt.show()\n"
      ]
    },
    {
      "cell_type": "markdown",
      "metadata": {},
      "source": [
        "### I could continue to fine-tune the parameters of the models, but since this is a time-limited assignment, I will just say that I would simply do a hyperparameter sweep on the possible options (I would try to do this randomly), and check the results on a validation set and decide based on that."
      ]
    }
  ],
  "metadata": {
    "kernelspec": {
      "display_name": "dict_sae",
      "language": "python",
      "name": "python3"
    },
    "language_info": {
      "codemirror_mode": {
        "name": "ipython",
        "version": 3
      },
      "file_extension": ".py",
      "mimetype": "text/x-python",
      "name": "python",
      "nbconvert_exporter": "python",
      "pygments_lexer": "ipython3",
      "version": "3.10.18"
    }
  },
  "nbformat": 4,
  "nbformat_minor": 2
}
